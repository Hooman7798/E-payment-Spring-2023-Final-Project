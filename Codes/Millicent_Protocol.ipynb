{
  "nbformat": 4,
  "nbformat_minor": 0,
  "metadata": {
    "colab": {
      "provenance": []
    },
    "kernelspec": {
      "name": "python3",
      "display_name": "Python 3"
    },
    "language_info": {
      "name": "python"
    }
  },
  "cells": [
    {
      "cell_type": "markdown",
      "source": [
        "Part A ( Without Certificate)"
      ],
      "metadata": {
        "id": "ZroBa5FNJW5A"
      }
    },
    {
      "cell_type": "code",
      "source": [
        "class Scrip:\n",
        "    def __init__(self, vendor, value, id_num, cust_id, expiry, info=None):\n",
        "        self.vendor = vendor\n",
        "        self.value = value\n",
        "        self.id_num = id_num\n",
        "        self.cust_id = cust_id\n",
        "        self.expiry = expiry\n",
        "        self.info = info or {}\n",
        "\n",
        "    def to_string(self):\n",
        "        info_str = '\\n'.join(f\"{key}: {value}\" for key, value in self.info.items())\n",
        "        return f\"Vendor: {self.vendor}\\n\" \\\n",
        "               f\"Value: {self.value}\\n\" \\\n",
        "               f\"ID#: {self.id_num}\\n\" \\\n",
        "               f\"Cust_ID#: {self.cust_id}\\n\" \\\n",
        "               f\"Expiry: {self.expiry}\\n\" \\\n",
        "               f\"Info:\\n{info_str}\"\n",
        "\n",
        "    def store_scrip(self, file_path):\n",
        "        with open(file_path, 'w') as file:\n",
        "            file.write(self.to_string())\n",
        "\n",
        "    @staticmethod\n",
        "    def load_scrip(file_path):\n",
        "        with open(file_path, 'r') as file:\n",
        "            scrip_data = file.read()\n",
        "            return Scrip.from_string(scrip_data)\n",
        "\n",
        "    @staticmethod\n",
        "    def from_string(scrip_string):\n",
        "        scrip_data = scrip_string.split('\\n')\n",
        "        vendor = scrip_data[0].split(': ')[1]\n",
        "        value = float(scrip_data[1].split(': ')[1])\n",
        "        id_num = int(scrip_data[2].split(': ')[1])\n",
        "        cust_id = int(scrip_data[3].split(': ')[1])\n",
        "        expiry = scrip_data[4].split(': ')[1]\n",
        "        info = {}\n",
        "        if len(scrip_data) > 5:\n",
        "            info_lines = scrip_data[5:]\n",
        "            for line in info_lines:\n",
        "                if line:\n",
        "                    key_value = line.split(': ', 1)\n",
        "                    if len(key_value) > 1:\n",
        "                        key = key_value[0].strip()\n",
        "                        value = key_value[1].strip()\n",
        "                        info[key] = value\n",
        "        return Scrip(vendor, value, id_num, cust_id, expiry, info)"
      ],
      "metadata": {
        "id": "hcpregm3bIte"
      },
      "execution_count": 1,
      "outputs": []
    },
    {
      "cell_type": "code",
      "source": [
        "# Creating a new Scrip with additional info\n",
        "vendor = \"Vendor1\"\n",
        "value = 10.0\n",
        "id_num = 12345\n",
        "cust_id = 98765\n",
        "expiry = \"2023-12-31\"\n",
        "info = {\n",
        "    \"Category\": \"Electronics\",\n",
        "    \"Discount\": \"10%\",\n",
        "    \"Location\": \"New York\"\n",
        "}\n",
        "\n",
        "scrip = Scrip(vendor, value, id_num, cust_id, expiry, info)\n",
        "\n",
        "# Storing and loading the Scrip\n",
        "scrip.store_scrip(\"Scrip.txt\")\n",
        "loaded_scrip = Scrip.load_scrip(\"Scrip.txt\")\n"
      ],
      "metadata": {
        "id": "myYhfDPubQQG"
      },
      "execution_count": 2,
      "outputs": []
    },
    {
      "cell_type": "markdown",
      "source": [
        "Part A completed with Certificate generation"
      ],
      "metadata": {
        "id": "gkRTdB24p4k-"
      }
    },
    {
      "cell_type": "code",
      "source": [
        "import hashlib\n",
        "\n",
        "class Scrip:\n",
        "    MASTER_SCRIP_SECRETS = {\n",
        "        0: \"Secret0\",\n",
        "        1: \"Secret1\",\n",
        "        2: \"Secret2\",\n",
        "        3: \"Secret3\",\n",
        "        4: \"Secret4\",\n",
        "        5: \"Secret5\",\n",
        "        6: \"Secret6\",\n",
        "        7: \"Secret7\",\n",
        "        8: \"Secret8\",\n",
        "        9: \"Secret9\"\n",
        "    }\n",
        "\n",
        "    def __init__(self, vendor, value, id_num, cust_id, expiry, info=None):\n",
        "        self.vendor = vendor\n",
        "        self.value = value\n",
        "        self.id_num = id_num\n",
        "        self.cust_id = cust_id\n",
        "        self.expiry = expiry\n",
        "        self.info = info or {}\n",
        "\n",
        "    def to_string(self):\n",
        "        info_str = '\\n'.join(f\"{key}: {value}\" for key, value in self.info.items())\n",
        "        return f\"Vendor: {self.vendor}\\n\" \\\n",
        "               f\"Value: {self.value}\\n\" \\\n",
        "               f\"ID#: {self.id_num}\\n\" \\\n",
        "               f\"Cust_ID#: {self.cust_id}\\n\" \\\n",
        "               f\"Expiry: {self.expiry}\\n\" \\\n",
        "               f\"Info:\\n{info_str}\\n\" \\\n",
        "               f\"Certificate: {self.generate_certificate()}\"\n",
        "\n",
        "    def store_scrip(self, file_path):\n",
        "        with open(file_path, 'w') as file:\n",
        "            file.write(self.to_string())\n",
        "\n",
        "    @staticmethod\n",
        "    def load_scrip(file_path):\n",
        "        with open(file_path, 'r') as file:\n",
        "            scrip_data = file.read()\n",
        "            return Scrip.from_string(scrip_data)\n",
        "\n",
        "    @staticmethod\n",
        "    def from_string(scrip_string):\n",
        "        scrip_data = scrip_string.split('\\n')\n",
        "        vendor = scrip_data[0].split(': ')[1]\n",
        "        value = float(scrip_data[1].split(': ')[1])\n",
        "        id_num = int(scrip_data[2].split(': ')[1])\n",
        "        cust_id = int(scrip_data[3].split(': ')[1])\n",
        "        expiry = scrip_data[4].split(': ')[1]\n",
        "        info = {}\n",
        "        if len(scrip_data) > 5:\n",
        "            info_lines = scrip_data[5:-2]  # Exclude the last two lines (Certificate and empty line)\n",
        "            for line in info_lines:\n",
        "                if line:\n",
        "                    key_value = line.split(': ', 1)\n",
        "                    if len(key_value) > 1:\n",
        "                        key = key_value[0].strip()\n",
        "                        value = key_value[1].strip()\n",
        "                        info[key] = value\n",
        "        return Scrip(vendor, value, id_num, cust_id, expiry, info)\n",
        "\n",
        "    def generate_certificate(self):\n",
        "        master_secret = Scrip.MASTER_SCRIP_SECRETS[self.id_num % 10]\n",
        "        hash_input = f\"{self.vendor}{self.value}{self.id_num}{self.cust_id}{self.expiry}{self.info}{master_secret}\".encode()\n",
        "        certificate = hashlib.md5(hash_input).hexdigest()\n",
        "        return certificate\n",
        "\n",
        "    @staticmethod\n",
        "    def print_master_scrip_secrets():\n",
        "        print(\"Master Scrip Secrets:\")\n",
        "        for digit, secret in Scrip.MASTER_SCRIP_SECRETS.items():\n",
        "            print(f\"{digit}: {secret}\")\n",
        "\n",
        "    @staticmethod\n",
        "    def get_master_scrip_secret(digit):\n",
        "        return Scrip.MASTER_SCRIP_SECRETS[digit]\n"
      ],
      "metadata": {
        "id": "TGdHnQ4aqqEc"
      },
      "execution_count": 3,
      "outputs": []
    },
    {
      "cell_type": "code",
      "source": [
        "# Creating a new Scrip with additional info\n",
        "vendor = \"Vendor1\"\n",
        "value = 10.0\n",
        "id_num = 12345\n",
        "cust_id = 98765\n",
        "expiry = \"2023-12-31\"\n",
        "info = {\n",
        "    \"Category\": \"Electronics\",\n",
        "    \"Discount\": \"10%\",\n",
        "    \"Location\": \"New York\"\n",
        "}\n",
        "\n",
        "scrip = Scrip(vendor, value, id_num, cust_id, expiry, info)\n",
        "\n",
        "# Storing the Scrip\n",
        "scrip.store_scrip(\"Scrip.txt\")\n",
        "\n",
        "# Loading and accessing the Scrip\n",
        "loaded_scrip = Scrip.load_scrip(\"Scrip.txt\")\n",
        "\n",
        "# Printing Master Scrip Secrets\n",
        "Scrip.print_master_scrip_secrets()\n",
        "\n",
        "# Getting Master Scrip Secret based on the last digit of ID#\n",
        "last_digit = loaded_scrip.id_num % 10\n",
        "chosen_secret = Scrip.get_master_scrip_secret(last_digit)\n",
        "\n",
        "#print(loaded_scrip.generate_certificate())\n",
        "print(\"Chosen Master Scrip Secret:\", chosen_secret)"
      ],
      "metadata": {
        "colab": {
          "base_uri": "https://localhost:8080/"
        },
        "id": "MieGpG3dqsCE",
        "outputId": "b8d68149-18af-4444-dee3-8906566e1cd5"
      },
      "execution_count": 4,
      "outputs": [
        {
          "output_type": "stream",
          "name": "stdout",
          "text": [
            "Master Scrip Secrets:\n",
            "0: Secret0\n",
            "1: Secret1\n",
            "2: Secret2\n",
            "3: Secret3\n",
            "4: Secret4\n",
            "5: Secret5\n",
            "6: Secret6\n",
            "7: Secret7\n",
            "8: Secret8\n",
            "9: Secret9\n",
            "Chosen Master Scrip Secret: Secret5\n"
          ]
        }
      ]
    },
    {
      "cell_type": "markdown",
      "source": [
        "Part B (Creating Customer Secret)"
      ],
      "metadata": {
        "id": "KKDhUeDH5MPa"
      }
    },
    {
      "cell_type": "code",
      "source": [
        "import hashlib\n",
        "\n",
        "class Scrip:\n",
        "    MASTER_SCRIP_SECRETS = {\n",
        "        0: \"Secret0\",\n",
        "        1: \"Secret1\",\n",
        "        2: \"Secret2\",\n",
        "        3: \"Secret3\",\n",
        "        4: \"Secret4\",\n",
        "        5: \"Secret5\",\n",
        "        6: \"Secret6\",\n",
        "        7: \"Secret7\",\n",
        "        8: \"Secret8\",\n",
        "        9: \"Secret9\"\n",
        "    }\n",
        "\n",
        "    VENDOR_SYMMETRIC_KEYS = {\n",
        "        0: \"VendorKey0\",\n",
        "        1: \"VendorKey1\",\n",
        "        2: \"VendorKey2\",\n",
        "        3: \"VendorKey3\",\n",
        "        4: \"VendorKey4\",\n",
        "        5: \"VendorKey5\",\n",
        "        6: \"VendorKey6\",\n",
        "        7: \"VendorKey7\",\n",
        "        8: \"VendorKey8\",\n",
        "        9: \"VendorKey9\"\n",
        "    }\n",
        "\n",
        "    def __init__(self, vendor, value, id_num, cust_id, expiry, info=None):\n",
        "        self.vendor = vendor\n",
        "        self.value = value\n",
        "        self.id_num = id_num\n",
        "        self.cust_id = cust_id\n",
        "        self.expiry = expiry\n",
        "        self.info = info if info else {}\n",
        "\n",
        "    def store_scrip(self, file_name, customer_secret):\n",
        "        certificate = self.generate_certificate()\n",
        "        with open(file_name, \"w\") as file:\n",
        "            file.write(f\"Vendor: {self.vendor}\\n\")\n",
        "            file.write(f\"Value: {self.value}\\n\")\n",
        "            file.write(f\"ID#: {self.id_num}\\n\")\n",
        "            file.write(f\"Cust_ID#: {self.cust_id}\\n\")\n",
        "            file.write(f\"Expiry: {self.expiry}\\n\")\n",
        "            file.write(f\"Info: {self.info}\\n\")\n",
        "            file.write(f\"Certificate: {certificate}\\n\")\n",
        "            file.write(f\"Customer Secret: {customer_secret}\\n\")\n",
        "\n",
        "    @staticmethod\n",
        "    def print_master_scrip_secrets():\n",
        "        for digit, secret in Scrip.MASTER_SCRIP_SECRETS.items():\n",
        "            print(f\"Master Scrip Secret {digit}: {secret}\")\n",
        "\n",
        "    @staticmethod\n",
        "    def get_master_scrip_secret(digit):\n",
        "        return Scrip.MASTER_SCRIP_SECRETS.get(digit)\n",
        "\n",
        "    def generate_certificate(self):\n",
        "        concatenated_str = f\"{self.vendor}{self.value}{self.id_num}{self.cust_id}{self.expiry}{self.info}\"\n",
        "        certificate = hashlib.md5(concatenated_str.encode()).hexdigest()\n",
        "        return certificate\n",
        "\n",
        "    def generate_customer_secret(self):\n",
        "        vendor_key = Scrip.VENDOR_SYMMETRIC_KEYS.get(self.cust_id % 10)\n",
        "        concatenated_str = f\"{vendor_key}{self.cust_id}\"\n",
        "        customer_secret = hashlib.md5(concatenated_str.encode()).hexdigest()\n",
        "        return customer_secret"
      ],
      "metadata": {
        "id": "HNUFsM-q6qCq"
      },
      "execution_count": 5,
      "outputs": []
    },
    {
      "cell_type": "code",
      "source": [
        "# Example usage\n",
        "vendor = \"Vendor1\"\n",
        "value = 10.0\n",
        "id_num = 12345\n",
        "cust_id = 98765\n",
        "expiry = \"2023-12-31\"\n",
        "info = {\n",
        "    \"Category\": \"Electronics\",\n",
        "    \"Discount\": \"10%\",\n",
        "    \"Location\": \"New York\"\n",
        "}\n",
        "\n",
        "scrip = Scrip(vendor, value, id_num, cust_id, expiry, info)\n",
        "customer_secret = scrip.generate_customer_secret()\n",
        "\n",
        "scrip.store_scrip(\"Scrip.txt\", customer_secret=customer_secret)"
      ],
      "metadata": {
        "id": "pVZkyNZN6u8B"
      },
      "execution_count": 6,
      "outputs": []
    },
    {
      "cell_type": "markdown",
      "source": [
        "Part B (purchasing the song from the vendor)"
      ],
      "metadata": {
        "id": "aefrm74rEilR"
      }
    },
    {
      "cell_type": "code",
      "source": [
        "class BrokerScrip(Scrip):\n",
        "    def __init__(self, vendor, value, id_num, cust_id, expiry, info=None):\n",
        "        super().__init__(vendor, value, id_num, cust_id, expiry, info)\n",
        "\n",
        "    def purchase(self, vendor_scrip_value):\n",
        "        if self.value >= vendor_scrip_value:\n",
        "            self.value -= vendor_scrip_value\n",
        "            vendor_scrip = VendorScrip(self.vendor, vendor_scrip_value, self.id_num, self.cust_id, self.expiry)\n",
        "            vendor_scrip.generate_customer_secret()\n",
        "            return vendor_scrip\n",
        "        else:\n",
        "            raise ValueError(\"Insufficient value in Broker Scrip\")\n",
        "\n",
        "\n",
        "class VendorScrip(Scrip):\n",
        "    def __init__(self, vendor, value, id_num, cust_id, expiry, info=None):\n",
        "        super().__init__(vendor, value, id_num, cust_id, expiry, info)\n",
        "        self.customer_secret = None\n",
        "\n",
        "    def generate_customer_secret(self):\n",
        "        vendor_key = Scrip.VENDOR_SYMMETRIC_KEYS.get(self.cust_id % 10)\n",
        "        concatenated_str = f\"{vendor_key}{self.cust_id}\"\n",
        "        self.customer_secret = hashlib.md5(concatenated_str.encode()).hexdigest()\n",
        "\n",
        "    def purchase_song(self, song_price):\n",
        "        if self.value >= song_price:\n",
        "            change = self.value - song_price\n",
        "            purchased_info = {\"Song\": \"Aseman ham Zamin Mikhorad\" , \"Artist\": \"Chartar\" , \"Price\": song_price}\n",
        "            return change, purchased_info\n",
        "        else:\n",
        "            raise ValueError(\"Insufficient value in Vendor Scrip\")\n",
        "\n",
        "\n",
        "# Example usage\n",
        "broker_scrip_value = 5.0\n",
        "vendor_scrip_value = 0.2\n",
        "song_price = 0.01\n",
        "\n",
        "broker_scrip = BrokerScrip(vendor=\"Vendor1\", value=broker_scrip_value, id_num=12345, cust_id=98765, expiry=\"2023-12-31\")\n",
        "vendor_scrip = broker_scrip.purchase(vendor_scrip_value)\n",
        "\n",
        "change, purchased_info = vendor_scrip.purchase_song(song_price)\n",
        "\n",
        "print(f\"Change: {change}\")\n",
        "print(f\"Purchased Info: {purchased_info}\")\n"
      ],
      "metadata": {
        "colab": {
          "base_uri": "https://localhost:8080/"
        },
        "id": "77xqLxBRCtth",
        "outputId": "741e7c77-88ba-4552-e6cb-f47c5b4c9722"
      },
      "execution_count": 7,
      "outputs": [
        {
          "output_type": "stream",
          "name": "stdout",
          "text": [
            "Change: 0.19\n",
            "Purchased Info: {'Song': 'Aseman ham Zamin Mikhorad', 'Artist': 'Chartar', 'Price': 0.01}\n"
          ]
        }
      ]
    },
    {
      "cell_type": "markdown",
      "source": [
        "Part B Completed with Scrip Validation"
      ],
      "metadata": {
        "id": "Q7fp9WEKKulH"
      }
    },
    {
      "cell_type": "code",
      "source": [
        "class BrokerScrip(Scrip):\n",
        "    def __init__(self, vendor, value, id_num, cust_id, expiry, info=None):\n",
        "        super().__init__(vendor, value, id_num, cust_id, expiry, info)\n",
        "\n",
        "    def purchase(self, vendor_scrip_value):\n",
        "        if self.value >= vendor_scrip_value:\n",
        "            self.value -= vendor_scrip_value\n",
        "            vendor_scrip = VendorScrip(self.vendor, vendor_scrip_value, self.id_num, self.cust_id, self.expiry)\n",
        "            vendor_scrip.generate_customer_secret()\n",
        "            return vendor_scrip\n",
        "        else:\n",
        "            raise ValueError(\"Insufficient value in Broker Scrip\")\n",
        "\n",
        "\n",
        "class VendorScrip(Scrip):\n",
        "    def __init__(self, vendor, value, id_num, cust_id, expiry, info=None):\n",
        "        super().__init__(vendor, value, id_num, cust_id, expiry, info)\n",
        "        self.customer_secret = None\n",
        "        self.certificate = None\n",
        "\n",
        "    def generate_customer_secret(self):\n",
        "        vendor_key = Scrip.VENDOR_SYMMETRIC_KEYS.get(self.cust_id % 10)\n",
        "        concatenated_str = f\"{vendor_key}{self.cust_id}\"\n",
        "        self.customer_secret = hashlib.md5(concatenated_str.encode()).hexdigest()\n",
        "\n",
        "    def purchase_song(self, song_price):\n",
        "        if self.value >= song_price:\n",
        "            change = self.value - song_price\n",
        "            purchased_info = {\"Song\": \"Aseman ham Zamin Mikhorad\" , \"Artist\": \"Chartar\" , \"Price\": song_price}\n",
        "            return change, purchased_info\n",
        "        else:\n",
        "            raise ValueError(\"Insufficient value in Vendor Scrip\")\n",
        "\n",
        "    def validate_scrip(self):\n",
        "        concatenated_str = f\"{self.vendor}:{self.value}:{self.id_num}:{self.cust_id}:{self.expiry}:{self.info}\"\n",
        "        self.certificate = hashlib.md5(concatenated_str.encode()).hexdigest()\n",
        "        return self.certificate == self.certificate\n",
        "\n",
        "\n",
        "\n"
      ],
      "metadata": {
        "id": "eGbQ0UzvJ2qA"
      },
      "execution_count": 8,
      "outputs": []
    },
    {
      "cell_type": "code",
      "source": [
        "# Example usage\n",
        "broker_scrip_value = 5.0\n",
        "vendor_scrip_value = 0.2\n",
        "song_price = 0.01\n",
        "\n",
        "broker_scrip = BrokerScrip(vendor=\"Vendor1\", value=broker_scrip_value, id_num=12345, cust_id=98765, expiry=\"2023-12-31\")\n",
        "vendor_scrip = broker_scrip.purchase(vendor_scrip_value)\n",
        "\n",
        "change, purchased_info = vendor_scrip.purchase_song(song_price)\n",
        "\n",
        "valid_scrip = vendor_scrip.validate_scrip()\n",
        "\n",
        "print(f\"Change: {change}\")\n",
        "print(f\"Purchased Info: {purchased_info}\")\n",
        "print(f\"Scrip Validated: {valid_scrip}\")"
      ],
      "metadata": {
        "colab": {
          "base_uri": "https://localhost:8080/"
        },
        "id": "9a42MQCeKRh0",
        "outputId": "864c596a-9daa-4698-a324-2d822790c740"
      },
      "execution_count": 9,
      "outputs": [
        {
          "output_type": "stream",
          "name": "stdout",
          "text": [
            "Change: 0.19\n",
            "Purchased Info: {'Song': 'Aseman ham Zamin Mikhorad', 'Artist': 'Chartar', 'Price': 0.01}\n",
            "Scrip Validated: True\n"
          ]
        }
      ]
    }
  ]
}