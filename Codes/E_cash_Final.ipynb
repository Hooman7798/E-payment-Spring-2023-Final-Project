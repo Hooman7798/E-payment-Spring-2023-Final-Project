{
  "nbformat": 4,
  "nbformat_minor": 0,
  "metadata": {
    "colab": {
      "provenance": []
    },
    "kernelspec": {
      "name": "python3",
      "display_name": "Python 3"
    },
    "language_info": {
      "name": "python"
    }
  },
  "cells": [
    {
      "cell_type": "code",
      "source": [
        "import random\n",
        "import hashlib\n",
        "import os\n",
        "from datetime import datetime, timedelta\n",
        "from cryptography.hazmat.primitives import hashes\n",
        "from cryptography.hazmat.primitives.asymmetric import rsa, padding\n",
        "from cryptography.hazmat.primitives import serialization\n",
        "from cryptography.hazmat.primitives.asymmetric.rsa import RSAPublicNumbers\n",
        "from cryptography.exceptions import InvalidSignature"
      ],
      "metadata": {
        "id": "DuyS4j48xpVv"
      },
      "execution_count": 1,
      "outputs": []
    },
    {
      "cell_type": "markdown",
      "source": [
        "part A and B"
      ],
      "metadata": {
        "id": "1LkfSQOQEPwF"
      }
    },
    {
      "cell_type": "code",
      "source": [
        "def generate_bank_private_keys():\n",
        "    private_key = rsa.generate_private_key(\n",
        "        public_exponent=65537,\n",
        "        key_size=2048\n",
        "    )\n",
        "    pem_private = private_key.private_bytes(\n",
        "        encoding=serialization.Encoding.PEM,\n",
        "        format=serialization.PrivateFormat.PKCS8,\n",
        "        encryption_algorithm=serialization.NoEncryption()\n",
        "    ).decode()\n",
        "\n",
        "    return pem_private\n",
        "\n",
        "def generate_bank_public_keys():\n",
        "    private_key = rsa.generate_private_key(\n",
        "        public_exponent=65537,\n",
        "        key_size=2048\n",
        "    )\n",
        "    public_key = private_key.public_key()\n",
        "\n",
        "    pem_public = public_key.public_bytes(\n",
        "        encoding=serialization.Encoding.PEM,\n",
        "        format=serialization.PublicFormat.SubjectPublicKeyInfo\n",
        "    ).decode()\n",
        "\n",
        "    return pem_public\n",
        "\n",
        "def sign_serial_number(blinded_serial_number, private_key):\n",
        "    # Convert blinded serial number to a hex string and then to an integer\n",
        "    m = int(blinded_serial_number.to_bytes((blinded_serial_number.bit_length() + 7) // 8, byteorder='big').hex(), 16)\n",
        "\n",
        "    # Compute the hash of the blinded serial number\n",
        "    h = hashlib.sha256(m.to_bytes((m.bit_length() + 7) // 8, byteorder='big')).digest()\n",
        "\n",
        "    # Sign the hash using the private key\n",
        "    signature = private_key.sign(\n",
        "        h,\n",
        "        padding.PSS(\n",
        "            mgf=padding.MGF1(hashes.SHA256()),\n",
        "            salt_length=padding.PSS.MAX_LENGTH\n",
        "        ),\n",
        "        hashes.SHA256()\n",
        "    )\n",
        "\n",
        "    return signature\n",
        "\n",
        "\n",
        "def blind(serial_number, public_key):\n",
        "    # Convert serial number to a hex string and then to an integer\n",
        "    m = int(serial_number.encode().hex(), 16)\n",
        "\n",
        "    # Choose a random blinding factor\n",
        "    r = random.randint(1, public_key.public_numbers().n - 1)\n",
        "\n",
        "    # Compute the blinded serial number\n",
        "    blinded_m = (m * pow(r, public_key.public_numbers().e, public_key.public_numbers().n)) % public_key.public_numbers().n\n",
        "\n",
        "    return blinded_m, r\n",
        "\n",
        "def generate_coin_with_expiration(private_key_pem, value, expiration_days):\n",
        "    # Deserialize the private key from PEM format\n",
        "    private_key = serialization.load_pem_private_key(\n",
        "        private_key_pem.encode(),\n",
        "        password=None\n",
        "    )\n",
        "\n",
        "    # Generate a unique serial number for the coin\n",
        "    serial_number = \"COIN-\" + str(datetime.now().timestamp())\n",
        "\n",
        "    # Blind the serial number\n",
        "    blinded_serial_number, blinding_factor = blind(serial_number, private_key.public_key())\n",
        "\n",
        "    # Calculate the expiration date\n",
        "    expiration_date = datetime.now() + timedelta(days=expiration_days)\n",
        "\n",
        "    # Create the coin object with value, expiration date, and blinding factor\n",
        "    coin = {\n",
        "        \"value\": value,\n",
        "        \"expiration_date\": expiration_date.strftime(\"%Y-%m-%d\"),\n",
        "        \"serial_number\": serial_number,\n",
        "        \"blinded_serial_number\": blinded_serial_number,\n",
        "        \"blinding_factor\": blinding_factor,\n",
        "        \"public_key\": private_key.public_key(),\n",
        "        \"private_key\": private_key,\n",
        "        \"signed_serial_number\": sign_serial_number(blinded_serial_number, private_key)\n",
        "    }\n",
        "\n",
        "    return coin\n",
        "\n",
        "def store_blinded_serial_numbers(blinded_serial_numbers):\n",
        "    with open(\"ecoins-Spec.txt\", \"w\") as file:\n",
        "        for coin in blinded_serial_numbers:\n",
        "            file.write(f\"Serial Number: {coin['serial_number']}\\n\")\n",
        "            file.write(f\"Blinded Serial Number: {coin['blinded_serial_number']}\\n\")\n",
        "            file.write(f\"Blinding Factor: {coin['blinding_factor']}\\n\")\n",
        "            file.write(f\"Value: {coin['value']}\\n\\n\")\n",
        "\n",
        "def unblind_and_sign_serial_numbers(coins):\n",
        "    unblinded_signed_serial_numbers = []\n",
        "    for coin in coins:\n",
        "        unblinded_serial_number = (coin['blinded_serial_number'] * pow(coin['blinding_factor'], -1, coin['public_key'].public_numbers().n)) % coin['public_key'].public_numbers().n\n",
        "        unblinded_signed_serial_numbers.append((unblinded_serial_number.to_bytes((unblinded_serial_number.bit_length() + 7) // 8, byteorder='big'), coin['signed_serial_number']))\n",
        "    return unblinded_signed_serial_numbers\n",
        "\n",
        "def store_unblinded_signed_serial_numbers(unblinded_signed_serial_numbers):\n",
        "    with open(\"ecoins.txt\", \"w\") as file:\n",
        "        for unblinded_serial_number, signature in unblinded_signed_serial_numbers:\n",
        "            file.write(f\"Unblinded Serial Number: {unblinded_serial_number.hex()}\\n\")\n",
        "            file.write(f\"Bank Signature: {signature.hex()}\\n\\n\")"
      ],
      "metadata": {
        "id": "1bQ1RSsTxsWb"
      },
      "execution_count": 2,
      "outputs": []
    },
    {
      "cell_type": "code",
      "source": [
        "private_key_5 = generate_bank_private_keys()\n",
        "public_key_5 = generate_bank_public_keys()\n",
        "\n",
        "private_key_10 = generate_bank_private_keys()\n",
        "public_key_10 = generate_bank_public_keys()\n",
        "\n",
        "private_key_20 = generate_bank_private_keys()\n",
        "public_key_20 = generate_bank_public_keys()\n",
        "\n",
        "# Generate coins with different denominations and expiration dates, each using a different key pair\n",
        "coin1 = generate_coin_with_expiration(private_key_5, 5, 50)\n",
        "coin2 = generate_coin_with_expiration(private_key_10, 10, 60)\n",
        "coin3 = generate_coin_with_expiration(private_key_20, 20, 100)\n",
        "\n",
        "# Store the blinded serial numbers, blinding factors, and signatures of the coins in a file\n",
        "coins = [coin1, coin2, coin3]\n",
        "store_blinded_serial_numbers(coins)\n",
        "\n",
        "# Unblind and sign the serial numbers of the coins using the corresponding private keys\n",
        "unblinded_signed_serial_numbers = unblind_and_sign_serial_numbers(coins)\n",
        "\n",
        "# Store the unblinded signed serial numbers in a file\n",
        "store_unblinded_signed_serial_numbers(unblinded_signed_serial_numbers)"
      ],
      "metadata": {
        "id": "7O_2pSZPyxnd"
      },
      "execution_count": 4,
      "outputs": []
    },
    {
      "cell_type": "code",
      "source": [
        "coins[0]"
      ],
      "metadata": {
        "colab": {
          "base_uri": "https://localhost:8080/"
        },
        "id": "U_oWV40Uzhoa",
        "outputId": "55b52ea2-f4fb-4d80-96f1-b69097d02ca5"
      },
      "execution_count": 5,
      "outputs": [
        {
          "output_type": "execute_result",
          "data": {
            "text/plain": [
              "{'value': 5,\n",
              " 'expiration_date': '2023-09-10',\n",
              " 'serial_number': 'COIN-1689986934.607556',\n",
              " 'blinded_serial_number': 18504569935426620980851993758289009419323964994339338698169633449121242043632744615993430263933113629902575054488871335904826850086350405846996463097988181558898377975581725240564617246104580787822421810567348501646358294358193815305718951996798195184902503961377847688465351648523442397311155820025274305004111669846731208674568850511958751926281780575245433920605539334910978857240202717852585692254393487642998905570446508206943277386667662478894013732126139808983478871837337532600939264446975287668627313652483570735513644989960800311172890863332738680748458091228039341649253458052389385150251654287841145084391,\n",
              " 'blinding_factor': 2478254182323670789353937653500470915020462573901694805503797045303393332264349545362286847448509937997562166968159438170155662624405592598566929244007427840901864943035456443949575297191160285595712111216258156439752722656221474592890816911387482727363830265539706655948897741978192333821065358962578012974813357618946673444784968840696033007970661117532334059578404563815355623800381083393791763745370517631692090398149478215395173379881801818854838215519547343940190393452805457060696116058688318529411077682665098417058054562880162154287501249523972686856114411285743706382907250077505346208464518974985004753233,\n",
              " 'public_key': <cryptography.hazmat.backends.openssl.rsa._RSAPublicKey at 0x7e6de80a9360>,\n",
              " 'private_key': <cryptography.hazmat.backends.openssl.rsa._RSAPrivateKey at 0x7e6de85bc910>,\n",
              " 'signed_serial_number': b'I\\xf3\\x16\\xf6\"\\xc65D\\xd7\\xf2\\xcf\\xdbZ\\x06\\x13n\\x16\\x84\\xd0?4)XC%\\x9fO\\xec\\xabH1\\x0c\\x84\\xfeUeV\\xcc\\x04\\x062sg\\xab9\\xb1\\xf9\\xb8\\xaa\\xa9\\x95}\\xd2\\xe8\\x86n\\xae\\x0bQ\\x8b#F\\x8d-/3\\x07\\xc8\\x9d\\x9b0\\xdb\\xc7\\\\\\x04X}\\x0c\\xd8>\\xff\\x99\\xbe\\x96,\\xc0\\x85\\xb1\\xadQI\\xd3\\xa8\\xfd\\x9f1\\xba\\xeb\\x11\\x0e\\xb1b^\\x84\\xf2\\x8c\\xee\\xe3R\\xca\\x9a\\x80\\x1d\\xba\\x0e\\xedLX\\xfc\\x14l[\\xd2\\xa8\\xd82\\xdb\\xf0\\xa0\\xf7\\x02\\x88\\xa9\\xec\\xbfi\\x82\\xb5n\\x7f(\\x10\\xfe\\x91\\x05\\xa7\\x10\\xc1>R\\xa7$\\xee+\\x0b}\\x13C\\xc1\\xeb}qGho\\xa5\\x02v\\r\\xf1bBK,\\xac\\x14\\x93\\xbd\\x95\\xa6\\xc8rY\\xa9\\x7fhOJ&\\xa9c\\x94\\x19&J\\xd1p\\x84\\x12s\\x90\\xa1\\xe5\\xb0\\xc5\\x94)&\\xf4\\x9e\\xb5\\xa1\\xe5YT\\xc93\\x91H\\xb0\\xf3\\x10\\xd0\\xc5\\xe6\\x08\\xff\\xc4\\xe2)b\\x00\\xe0`K\\xcd\\x94\\x7f\\x0ci\\xefD\\x11\\x0c\\xf5q\\x80\\xbbn\\xd5#/\\xaa\\xb4\\xaf\\xb3'}"
            ]
          },
          "metadata": {},
          "execution_count": 5
        }
      ]
    },
    {
      "cell_type": "markdown",
      "source": [
        "Part C"
      ],
      "metadata": {
        "id": "cMBQAa2REwpG"
      }
    },
    {
      "cell_type": "code",
      "source": [
        "# Generate bank's public key\n",
        "def generate_bank_keys():\n",
        "    private_key = rsa.generate_private_key(\n",
        "        public_exponent=65537,\n",
        "        key_size=2048\n",
        "    )\n",
        "    public_key = private_key.public_key()\n",
        "\n",
        "    private_pem = private_key.private_bytes(\n",
        "        encoding=serialization.Encoding.PEM,\n",
        "        format=serialization.PrivateFormat.PKCS8,\n",
        "        encryption_algorithm=serialization.NoEncryption()\n",
        "    )\n",
        "\n",
        "    public_pem = public_key.public_bytes(\n",
        "        encoding=serialization.Encoding.PEM,\n",
        "        format=serialization.PublicFormat.SubjectPublicKeyInfo\n",
        "    )\n",
        "\n",
        "    return private_pem, public_pem\n",
        "# Generate bank's public-private keys\n",
        "private_key_pem, public_key_pem = generate_bank_keys()\n",
        "\n",
        "# Deserialize the public key from PEM format\n",
        "public_key = serialization.load_pem_public_key(public_key_pem)\n",
        "\n",
        "\n",
        "def validate_coin(coin, public_key, spent_serial_numbers):\n",
        "    # Retrieve coin information\n",
        "    serial_number = coin[\"serial_number\"]\n",
        "    blinded_serial_number = coin[\"blinded_serial_number\"]\n",
        "    value = coin[\"value\"]\n",
        "    expiration_date = datetime.strptime(coin[\"expiration_date\"], \"%Y-%m-%d\")\n",
        "    #signature = coin[\"signature\"]\n",
        "\n",
        "\n",
        "    # Verify expiration date\n",
        "    current_date = datetime.now()\n",
        "    if current_date > expiration_date:\n",
        "        print(\"Coin has expired.\")\n",
        "        return False\n",
        "\n",
        "    # Check serial number in spent serial numbers database\n",
        "    if serial_number in spent_serial_numbers:\n",
        "        print(\"Coin has already been spent.\")\n",
        "        return False\n",
        "\n",
        "    # Add serial number to spent serial numbers database\n",
        "    spent_serial_numbers.add(serial_number)\n",
        "\n",
        "\n",
        "    print(\"Coin is valid and can be accepted.\")\n",
        "    return True\n",
        "\n",
        "# Example usage:\n",
        "received_coin = {\n",
        "    \"serial_number\": \"COIN-1234567897665\",\n",
        "    \"blinded_serial_number\": \"COIN-1234567890.123\",\n",
        "    \"value\": 10,\n",
        "    \"expiration_date\": \"2023-1-1\",\n",
        "\n",
        "}\n",
        "\n",
        "received_coin1 = {\n",
        "    \"serial_number\": \"COIN-1234567890\",\n",
        "    \"blinded_serial_number\": \"COIN-1234567890.123\",\n",
        "    \"value\": 10,\n",
        "    \"expiration_date\": \"2023-12-31\",\n",
        "\n",
        "}\n",
        "received_coin2 = {\n",
        "    \"serial_number\": \"COIN-1234567890\",\n",
        "    \"blinded_serial_number\": \"COIN-1234567896.123\",\n",
        "    \"value\": 10,\n",
        "    \"expiration_date\": \"2023-12-31\",\n",
        "\n",
        "}\n",
        "# Assuming you have the public_key instance\n",
        "\n",
        "# Set up the database of spent serial numbers\n",
        "\n",
        "spent_serial_numbers = set()\n",
        "\n",
        "\n",
        "#valid = validate_coin(coin_to_validate, public_key, spent_serial_numbers )\n",
        "\n",
        "# Validate the received coin\n",
        "valid = validate_coin(received_coin1, public_key, spent_serial_numbers)\n",
        "\n",
        "#print(spent_serial_numbers)\n",
        "\n",
        "if valid:\n",
        "    # Process the coin and accept the payment\n",
        "    print(\"Payment accepted.\")\n",
        "else:\n",
        "    # Reject the coin and inform the merchant\n",
        "    print(\"Payment rejected.\")"
      ],
      "metadata": {
        "colab": {
          "base_uri": "https://localhost:8080/"
        },
        "id": "xWyOjVhiDiKI",
        "outputId": "442e2c99-9ae6-4d27-e883-0c52ef946f80"
      },
      "execution_count": 6,
      "outputs": [
        {
          "output_type": "stream",
          "name": "stdout",
          "text": [
            "Coin is valid and can be accepted.\n",
            "Payment accepted.\n"
          ]
        }
      ]
    },
    {
      "cell_type": "code",
      "source": [
        "#Same serial number ->> double spending scenario\n",
        "valid = validate_coin(received_coin2, public_key, spent_serial_numbers)\n",
        "if valid:\n",
        "    # Process the coin and accept the payment\n",
        "    print(\"Payment accepted.\")\n",
        "else:\n",
        "    # Reject the coin and inform the merchant\n",
        "    print(\"Payment rejected.\")"
      ],
      "metadata": {
        "colab": {
          "base_uri": "https://localhost:8080/"
        },
        "id": "9h9jZenODkic",
        "outputId": "8bc83978-6277-4e85-dc6a-f5911abcd2f0"
      },
      "execution_count": 7,
      "outputs": [
        {
          "output_type": "stream",
          "name": "stdout",
          "text": [
            "Coin has already been spent.\n",
            "Payment rejected.\n"
          ]
        }
      ]
    },
    {
      "cell_type": "code",
      "source": [
        "# expairation date has come.\n",
        "valid = validate_coin(received_coin, public_key, spent_serial_numbers)\n",
        "if valid:\n",
        "    # Process the coin and accept the payment\n",
        "    print(\"Payment accepted.\")\n",
        "else:\n",
        "    # Reject the coin and inform the merchant\n",
        "    print(\"Payment rejected.\")"
      ],
      "metadata": {
        "colab": {
          "base_uri": "https://localhost:8080/"
        },
        "id": "lDI_VhfaDnck",
        "outputId": "13c3b3d7-a40d-47d7-c6c1-20d9813cb871"
      },
      "execution_count": 8,
      "outputs": [
        {
          "output_type": "stream",
          "name": "stdout",
          "text": [
            "Coin has expired.\n",
            "Payment rejected.\n"
          ]
        }
      ]
    },
    {
      "cell_type": "code",
      "source": [
        "coins[2]"
      ],
      "metadata": {
        "colab": {
          "base_uri": "https://localhost:8080/"
        },
        "id": "iCGoG5ohDp3H",
        "outputId": "3bfda11f-6c4d-4ddc-e952-1a3ff546ab81"
      },
      "execution_count": 9,
      "outputs": [
        {
          "output_type": "execute_result",
          "data": {
            "text/plain": [
              "{'value': 20,\n",
              " 'expiration_date': '2023-10-30',\n",
              " 'serial_number': 'COIN-1689986934.716949',\n",
              " 'blinded_serial_number': 23528635997810512073580627957928641506449396182392218376829436739041505375924151169634341992858748416398396731590676766743019244442917842023805930954356690300836005004799129776862888132600952061399850032547913759773352445133963173208039581969073589294608318527188227699249666245228612069805820635386272604893025330726636908785075014091019291903213179019640347763492360328413686719151030954711403827762844881062594733799581319695373199216325071802384827701735111239537779533505464941549953333406062587571259068928414103845430283384941738571253481893409522029532283585833922193432869853203153707333445597339866899415058,\n",
              " 'blinding_factor': 559818231615553396690465346443560264992929573148076839655001019125062662552368700492783689851963587627508354214197636751035374638882377213782854901853911936532996134834962265418613581190228390127723264730621083388746017633283537764625582124978946273936437341582710031865243181957527131553673743005478532196039186789508280893067854444297652122135326997226768176845097609181891416987934738777734071478598916257420044444640714250929614027913472512571254505034745544389127940456842362184197789653882598552101285785714801025808522278120625567564315512142761676971747815927685629577186328213224463021943912960140055881724,\n",
              " 'public_key': <cryptography.hazmat.backends.openssl.rsa._RSAPublicKey at 0x7e6de80a93f0>,\n",
              " 'private_key': <cryptography.hazmat.backends.openssl.rsa._RSAPrivateKey at 0x7e6de80a93c0>,\n",
              " 'signed_serial_number': b'\\x8cE;Y\\x80\"\\xecX<\\xae\\xac\\xb3\\x16\\x89\\x17\\x80M,\\x0c\\x9d\\x17\\xbfj\\x82\\xf8W\\xb6\\x07Q\\x8b\\xae\\x04\\xc5\\xa9\\xa5\\x0156.\\x85Y2\\xa5RZK\\xf15\\x8a6\\xcc|n\\x8e\\x1c3k\\xf4\\xfe\\x01f\\x9bwK\\xe2\\x94\\xb1\\xf4\\xebR\\xa8\\x9d\\x88\\xba\\xb3\\x9d`U.\\xe9,\\xda\\xd66\\xe8\\x1aQ\\'\\x02D.\\xb1\\xd8)\\x85 \\x1e\\xa5 {9p\\x07\\xb3J\\x0br\\xf1g$\\xaa\\xd8\\x18\\xa2\\xf3cyM0 \\\\\\xf6\\xd6^\\xe2\\x94&\\xcbK*~+-\\xc6\\x99\\xa1\\xf9z\\xa4\\x93Q\\x0c\\x81\\xf8xF\\x0b\\xddr\\xf4Y\\x7f+ji\\x98\\x88@.t%qKbX\\xea\\xa43\\xb3\\xa5\\xd0\\xe0\\xb7\\r\\xf2\\x06O\\xb4R\\xb2[\\x82\\xd1\\xe6f(\\xd5\\xe9.\\xcb\\x0e\\xf1o\\xfa\\'\\xad\\xc7\\x905<N$P1S\\xc0,/r\\xdb{Gc\\xfd\\x0e\\xa0\\x05\\x8e\\xafQ\\xb9\\x9a>Nyj\\x98\\xee\\xb2\\x9d\\x07M\\x19\\xce\\x0f\\xb9\\xbb5\\\\\\xc5\\xd3z5MM\\x1d3x\\xe6I\\xc2\\\\l\\x11\\x80\\xce'}"
            ]
          },
          "metadata": {},
          "execution_count": 9
        }
      ]
    },
    {
      "cell_type": "code",
      "source": [
        "# third coin of the customer\n",
        "valid = validate_coin(coins[2], public_key, spent_serial_numbers)\n",
        "if valid:\n",
        "    # Process the coin and accept the payment\n",
        "    print(\"Payment accepted.\")\n",
        "else:\n",
        "    # Reject the coin and inform the merchant\n",
        "    print(\"Payment rejected.\")"
      ],
      "metadata": {
        "colab": {
          "base_uri": "https://localhost:8080/"
        },
        "id": "LfOlou2hDsAU",
        "outputId": "194cd8fe-c458-4500-bf15-d154ba1224c2"
      },
      "execution_count": 10,
      "outputs": [
        {
          "output_type": "stream",
          "name": "stdout",
          "text": [
            "Coin is valid and can be accepted.\n",
            "Payment accepted.\n"
          ]
        }
      ]
    },
    {
      "cell_type": "code",
      "source": [],
      "metadata": {
        "id": "wH7Lf3Hazo-W"
      },
      "execution_count": null,
      "outputs": []
    }
  ]
}