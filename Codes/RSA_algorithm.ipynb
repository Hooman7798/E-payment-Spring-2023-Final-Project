{
  "nbformat": 4,
  "nbformat_minor": 0,
  "metadata": {
    "colab": {
      "provenance": []
    },
    "kernelspec": {
      "name": "python3",
      "display_name": "Python 3"
    },
    "language_info": {
      "name": "python"
    }
  },
  "cells": [
    {
      "cell_type": "code",
      "source": [
        "import os\n",
        "import math\n",
        "import random"
      ],
      "metadata": {
        "id": "e4lIe0MsHelC"
      },
      "execution_count": 1,
      "outputs": []
    },
    {
      "cell_type": "code",
      "source": [
        "#using the Miller-Rabin test to find out if a number is prime or not.\n",
        "def is_prime(n):\n",
        "    \"\"\"\n",
        "    Test if a number is prime using the Miller-Rabin test.\n",
        "    \"\"\"\n",
        "    if n < 2:\n",
        "        return False\n",
        "    if n == 2 or n == 3:\n",
        "        return True\n",
        "    if n % 2 == 0:\n",
        "        return False\n",
        "    r, d = 0, n - 1\n",
        "    while d % 2 == 0:\n",
        "        r += 1\n",
        "        d //= 2\n",
        "    for i in range(10):\n",
        "        a = random.randint(2, n - 2)\n",
        "        x = pow(a, d, n)\n",
        "        if x == 1 or x == n - 1:\n",
        "            continue\n",
        "        for i in range(r - 1):\n",
        "            x = pow(x, 2, n)\n",
        "            if x == n - 1:\n",
        "                break\n",
        "        else:\n",
        "            return False\n",
        "    return True\n",
        "\n",
        "def generate_prime(bit_length):\n",
        "    \"\"\"\n",
        "    Generate a probable prime number of the given bit length using the Miller-Rabin test.\n",
        "    \"\"\"\n",
        "    while True:\n",
        "        p = int.from_bytes(os.urandom(bit_length // 8), byteorder='big')\n",
        "        p |= (1 << bit_length - 1) | 1 << bit_length - 2\n",
        "        if is_prime(p):\n",
        "            return p\n",
        "\n",
        "def generate_key_pair(bit_length):\n",
        "    \"\"\"\n",
        "    Generate an RSA key pair with the given bit length.\n",
        "    \"\"\"\n",
        "    p = generate_prime(bit_length//2)\n",
        "    q = generate_prime(bit_length//2)\n",
        "    n = p * q\n",
        "    phi = (p - 1) * (q - 1)\n",
        "\n",
        "    # Generate a random value for e that is relatively prime to phi\n",
        "    while True:\n",
        "        e = random.randint(2, phi - 1)\n",
        "        if math.gcd(e, phi) == 1:\n",
        "            break\n",
        "\n",
        "    d = mod_inverse(e, phi)\n",
        "    return (n, e), (n, d)\n",
        "\n",
        "def gcd(a, b):\n",
        "    \"\"\"\n",
        "    Compute the greatest common divisor of two numbers using the Euclidean algorithm.\n",
        "    \"\"\"\n",
        "    while b != 0:\n",
        "        a, b = b, a % b\n",
        "    return a\n",
        "\n",
        "def mod_inverse(a, m):\n",
        "    \"\"\"\n",
        "    Compute the modular inverse of a modulo m using the extended Euclidean algorithm.\n",
        "    \"\"\"\n",
        "    if gcd(a, m) != 1:\n",
        "        return None\n",
        "    u1, u2, u3 = 1, 0, a\n",
        "    v1, v2, v3 = 0, 1, m\n",
        "\n",
        "    while v3 != 0:\n",
        "        q = u3 // v3\n",
        "        v1, v2, v3, u1, u2, u3 = (u1 - q * v1), (u2 - q * v2), (u3 - q * v3), v1, v2, v3\n",
        "\n",
        "    return u1 % m\n",
        "\n",
        "def encrypt(message, public_key):\n",
        "    \"\"\"\n",
        "    Encrypt a message using an RSA public key.\n",
        "    \"\"\"\n",
        "    n, e = public_key\n",
        "    block_size = int(math.log2(n) // 8)\n",
        "    ciphertext = []\n",
        "    for i in range(0, len(message), block_size):\n",
        "        block = message[i:i+block_size]\n",
        "        padded_block = block.ljust(block_size, '\\x00')\n",
        "        padded_int = int.from_bytes(padded_block.encode('utf-8'), byteorder='big')\n",
        "        encrypted_int = pow(padded_int, e, n)\n",
        "        ciphertext.append(encrypted_int)\n",
        "    return ciphertext\n",
        "\n",
        "def decrypt(ciphertext, private_key):\n",
        "    \"\"\"\n",
        "    Decrypt a message using an RSA private key.\n",
        "    \"\"\"\n",
        "    n, d = private_key\n",
        "    block_size = int(math.log2(n) // 8)\n",
        "    decrypted_blocks = []\n",
        "\n",
        "    for encrypted_int in ciphertext:\n",
        "        decrypted_int = pow(encrypted_int, d, n)\n",
        "        padded_block_bytes = decrypted_int.to_bytes(block_size, byteorder='big')\n",
        "        # Strip padding to retrieve the original message block\n",
        "        original_block = padded_block_bytes.rstrip(b'\\x00')\n",
        "        decrypted_blocks.append(original_block.decode('utf-8'))\n",
        "\n",
        "    # Concatenate all the decrypted blocks to form the original message\n",
        "    original_message = ''.join(decrypted_blocks)\n",
        "    return original_message\n",
        "\n",
        "def save_key_to_file(key, filename):\n",
        "    \"\"\"\n",
        "    Save an RSA key to a file.\n",
        "    \"\"\"\n",
        "    if len(key) == 2:  # tuple form\n",
        "        n, k = key\n",
        "        with open(filename, 'wb') as f:\n",
        "            f.write(n.to_bytes((n.bit_length() + 7) // 8, byteorder='big'))\n",
        "            f.write(k.to_bytes((k.bit_length() + 7) // 8, byteorder='big'))\n",
        "    else:\n",
        "        raise ValueError(\"Invalid RSA key format.\")"
      ],
      "metadata": {
        "id": "iw8ItkXNjVhR"
      },
      "execution_count": 7,
      "outputs": []
    },
    {
      "cell_type": "code",
      "source": [
        "# Generate a key pair with 1024-bit p and q\n",
        "bit_length = 2048\n",
        "public_key, private_key = generate_key_pair(bit_length)\n",
        "\n",
        "# Save the public and private keys to files\n",
        "save_key_to_file(public_key, 'public.pem')\n",
        "save_key_to_file(private_key, 'private.pem')\n",
        "\n",
        "# Encrypt a message using the public key and save it to a file\n",
        "message = \"The quick brown fox jumps over the lazy dog\"\n",
        "encrypted_text = encrypt(message, public_key)\n",
        "with open('encrypted.txt', 'w') as f:\n",
        "    for c in encrypted_text:\n",
        "        f.write(str(c))\n",
        "        f.write('\\n')"
      ],
      "metadata": {
        "id": "MCCTUw1xjX-L"
      },
      "execution_count": 3,
      "outputs": []
    },
    {
      "cell_type": "code",
      "source": [
        "decrypted_text = decrypt(encrypted_text, private_key)\n"
      ],
      "metadata": {
        "id": "22GP2YTVjXK8"
      },
      "execution_count": 8,
      "outputs": []
    },
    {
      "cell_type": "code",
      "source": [
        "public_key"
      ],
      "metadata": {
        "colab": {
          "base_uri": "https://localhost:8080/"
        },
        "id": "hT09YF8f0uOA",
        "outputId": "e79db87b-ae66-443a-a41d-41c46872b199"
      },
      "execution_count": 4,
      "outputs": [
        {
          "output_type": "execute_result",
          "data": {
            "text/plain": [
              "(26849866536184532786821404868385286413898579440680963925238569389203177403105361194337630075600658888175506113524315700632434872711552635594659599755525165376155796530010837493228578163471540667415645029979450790016076456229996057005524350110577166891355244191697531559989904391918564403937149865973545600195688776253160964604556922527709303166751060016231453333365017558656385744898940414719277695095065073119186761952297309330007325161644946048399511843123360671574213972131684605383026316338497694679733790076999246483169745184973772263788985820205752241648218518310849100117283976908259055225522061057883987079661,\n",
              " 26558805820094959036439594422385230686265273122876375576219539938958290493754402851655370695339587594202014286850654492916922196417540113239472885513732538134356917347570665369045967392434056254501944904350266676329135849531943672938628348159241592862949878887759580513178304836715217349124874523533242770757852036051832878797558430646054979151811525347368140061117264573354083518946959235642952339183723876860757207173271698829377227913257952254036219644900637673317504066456058890051821787980402519912788623327360872782019685234758383936936784437312603427007865573296827567900287596638547240026336255967953192271893)"
            ]
          },
          "metadata": {},
          "execution_count": 4
        }
      ]
    },
    {
      "cell_type": "code",
      "source": [
        "private_key"
      ],
      "metadata": {
        "colab": {
          "base_uri": "https://localhost:8080/"
        },
        "id": "XCsjC-HG0w02",
        "outputId": "d75caf0b-1a37-420a-f6b1-16f6aa19a245"
      },
      "execution_count": 5,
      "outputs": [
        {
          "output_type": "execute_result",
          "data": {
            "text/plain": [
              "(26849866536184532786821404868385286413898579440680963925238569389203177403105361194337630075600658888175506113524315700632434872711552635594659599755525165376155796530010837493228578163471540667415645029979450790016076456229996057005524350110577166891355244191697531559989904391918564403937149865973545600195688776253160964604556922527709303166751060016231453333365017558656385744898940414719277695095065073119186761952297309330007325161644946048399511843123360671574213972131684605383026316338497694679733790076999246483169745184973772263788985820205752241648218518310849100117283976908259055225522061057883987079661,\n",
              " 25801814378952339397104588367369816496588025233523237150622960205849431988824235490590480251851940077944671245201663037305115958568466867594601323149952469912899024972966197502658410756070349453900917451893938835863828295499293435185397859362153012331030599785453574495321460208948244905652156795171875325129000022133228208408831626334457160016054668332239017221759727681966923028736864461060466769625846556945375633101472329265254092158022806886062537733697589516311629910121010286824138722871733847063642464281908968646594844137914575061881754817900588868150991692015318959145536941805057747971528536248672195339457)"
            ]
          },
          "metadata": {},
          "execution_count": 5
        }
      ]
    },
    {
      "cell_type": "code",
      "source": [
        "encrypted_text"
      ],
      "metadata": {
        "colab": {
          "base_uri": "https://localhost:8080/"
        },
        "id": "gVnp_Zmzih-v",
        "outputId": "a4663300-d2c9-4ae9-ab0e-dff35df28519"
      },
      "execution_count": 6,
      "outputs": [
        {
          "output_type": "execute_result",
          "data": {
            "text/plain": [
              "[12628154666787804475561056964001668008971832852740027580714263720055111147808872598117999367285726693007620169178649484935504830352191526259217723322447314717695518927283496064766325720266449536255002689128682343255133738341116770980146700730249156016906277694501167975180578336210615032829489890356367759023984698585564012598948292951130647162152470286573737875083532108502117990482519211769547420729782089059639776640439050254660070332488866942188791369032267741072189994887582977925892426497886642218306028245420720561083995723892962687334718008332878093179078099910984796621067403449348061831874908852196935080689]"
            ]
          },
          "metadata": {},
          "execution_count": 6
        }
      ]
    },
    {
      "cell_type": "code",
      "source": [
        "decrypted_text"
      ],
      "metadata": {
        "colab": {
          "base_uri": "https://localhost:8080/",
          "height": 35
        },
        "id": "20HrEHFjju4V",
        "outputId": "d1961a72-7aaa-4399-b3ac-2484986edffa"
      },
      "execution_count": 9,
      "outputs": [
        {
          "output_type": "execute_result",
          "data": {
            "text/plain": [
              "'The quick brown fox jumps over the lazy dog'"
            ],
            "application/vnd.google.colaboratory.intrinsic+json": {
              "type": "string"
            }
          },
          "metadata": {},
          "execution_count": 9
        }
      ]
    }
  ]
}